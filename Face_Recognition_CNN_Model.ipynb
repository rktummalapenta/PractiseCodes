{
  "nbformat": 4,
  "nbformat_minor": 0,
  "metadata": {
    "colab": {
      "provenance": [],
      "authorship_tag": "ABX9TyO5lO+E7VLC6Nwztfo1rMHl",
      "include_colab_link": true
    },
    "kernelspec": {
      "name": "python3",
      "display_name": "Python 3"
    },
    "language_info": {
      "name": "python"
    }
  },
  "cells": [
    {
      "cell_type": "markdown",
      "metadata": {
        "id": "view-in-github",
        "colab_type": "text"
      },
      "source": [
        "<a href=\"https://colab.research.google.com/github/rktummalapenta/PractiseCodes/blob/master/Face_Recognition_CNN_Model.ipynb\" target=\"_parent\"><img src=\"https://colab.research.google.com/assets/colab-badge.svg\" alt=\"Open In Colab\"/></a>"
      ]
    },
    {
      "cell_type": "markdown",
      "source": [
        "Perform Facial Recognition with Deep Learning in Keras Using CNN Course-end Project 4\n",
        "\n",
        "DESCRIPTION\n",
        "\n",
        "Problem Statement: Facial recognition is a biometric alternative that measures unique characteristics of a human face. Applications available today include flight check in, tagging friends and family members in photos, and “tailored” advertising. You are a computer vision engineer who needs to develop a face recognition programme with deep convolutional neural networks. Objective: Use a deep convolutional neural network to perform facial recognition using Keras. Dataset Details: ORL face database composed of 400 images of size 112 x 92. There are 40 people, 10 images per person. The images were taken at different times, lighting and facial expressions. The faces are in an upright position in frontal view, with a slight left-right rotation. Link to the Dataset: https://www.dropbox.com/s/i7uzp5yxk7wruva/ORL_faces.npz?dl=0 Prerequisites: Keras Scikit Learn Steps to be followed:\n",
        "\n",
        "Input the required libraries\n",
        "Load the dataset after loading the dataset, you have to normalize every image.\n",
        "Split the dataset\n",
        "Transform the images to equal sizes to feed in CNN\n",
        "Build a CNN model that has 3 main layers:\n",
        "i. Convolutional Layer ii. Pooling Layer iii. Fully Connected Layer\n",
        "\n",
        "Train the model\n",
        "Plot the result\n",
        "Iterate the model until the accuracy is above 90%"
      ],
      "metadata": {
        "id": "Ukv2CII_TsNP"
      }
    },
    {
      "cell_type": "code",
      "source": [
        "import numpy as np\n",
        "import pandas as pd\n",
        "import matplotlib.pyplot as plt\n",
        "\n",
        "import keras\n",
        "from keras.models import Sequential\n",
        "from keras.layers import Conv2D, MaxPooling2D, Dense, Flatten, Dropout\n",
        "from keras.optimizers import Adam\n",
        "from keras.callbacks import TensorBoard\n",
        "from keras.utils import np_utils\n",
        "\n",
        "from sklearn.model_selection import train_test_split\n",
        "from sklearn.metrics import confusion_matrix\n",
        "from sklearn.metrics import classification_report\n",
        "from sklearn.metrics import roc_curve, auc\n",
        "from sklearn.metrics import accuracy_score\n",
        "\n",
        "import itertools"
      ],
      "metadata": {
        "id": "LFdBQxn4PTxQ"
      },
      "execution_count": 5,
      "outputs": []
    },
    {
      "cell_type": "markdown",
      "source": [
        "Loading ORL_faces.npz data and normalize the sizes of images for model training."
      ],
      "metadata": {
        "id": "EQSshlwcVlo5"
      }
    },
    {
      "cell_type": "code",
      "source": [
        "#load dataset\n",
        "data = np.load('ORL_faces.npz')\n",
        "\n",
        "# load the \"Train Images\"\n",
        "x_train = data['trainX']\n",
        "#normalize every image\n",
        "x_train = np.array(x_train,dtype='float32')/255\n",
        "\n",
        "x_test = data['testX']\n",
        "x_test = np.array(x_test,dtype='float32')/255\n",
        "\n",
        "# load the Label of Images\n",
        "y_train= data['trainY']\n",
        "y_test= data['testY']\n",
        "\n",
        "# show the train and test Data format\n",
        "print(f\"x_train : {x_train[:]}\")\n",
        "print(f\"Y_train shape: {y_train}\")\n",
        "print(f\"x_test: {x_test.shape}\")"
      ],
      "metadata": {
        "colab": {
          "base_uri": "https://localhost:8080/",
          "height": 0
        },
        "id": "rQn7LFGvPT0W",
        "outputId": "d0a288b6-53fe-4670-d49e-9d837b32d6e6"
      },
      "execution_count": 10,
      "outputs": [
        {
          "output_type": "stream",
          "name": "stdout",
          "text": [
            "x_train : [[0.1882353  0.19215687 0.1764706  ... 0.18431373 0.18039216 0.18039216]\n",
            " [0.23529412 0.23529412 0.24313726 ... 0.1254902  0.13333334 0.13333334]\n",
            " [0.15294118 0.17254902 0.20784314 ... 0.11372549 0.10196079 0.11372549]\n",
            " ...\n",
            " [0.44705883 0.45882353 0.44705883 ... 0.38431373 0.3764706  0.38431373]\n",
            " [0.4117647  0.4117647  0.41960785 ... 0.21176471 0.18431373 0.16078432]\n",
            " [0.45490196 0.44705883 0.45882353 ... 0.37254903 0.39215687 0.39607844]]\n",
            "Y-train shape: [ 0  0  0  0  0  0  0  0  0  0  0  0  1  1  1  1  1  1  1  1  1  1  1  1\n",
            "  2  2  2  2  2  2  2  2  2  2  2  2  3  3  3  3  3  3  3  3  3  3  3  3\n",
            "  4  4  4  4  4  4  4  4  4  4  4  4  5  5  5  5  5  5  5  5  5  5  5  5\n",
            "  6  6  6  6  6  6  6  6  6  6  6  6  7  7  7  7  7  7  7  7  7  7  7  7\n",
            "  8  8  8  8  8  8  8  8  8  8  8  8  9  9  9  9  9  9  9  9  9  9  9  9\n",
            " 10 10 10 10 10 10 10 10 10 10 10 10 11 11 11 11 11 11 11 11 11 11 11 11\n",
            " 12 12 12 12 12 12 12 12 12 12 12 12 13 13 13 13 13 13 13 13 13 13 13 13\n",
            " 14 14 14 14 14 14 14 14 14 14 14 14 15 15 15 15 15 15 15 15 15 15 15 15\n",
            " 16 16 16 16 16 16 16 16 16 16 16 16 17 17 17 17 17 17 17 17 17 17 17 17\n",
            " 18 18 18 18 18 18 18 18 18 18 18 18 19 19 19 19 19 19 19 19 19 19 19 19]\n",
            "x_test shape: (160, 10304)\n"
          ]
        }
      ]
    },
    {
      "cell_type": "markdown",
      "source": [
        "# New Section"
      ],
      "metadata": {
        "id": "kaI-E9QIQk1m"
      }
    },
    {
      "cell_type": "markdown",
      "source": [
        "Splitting the normalized data using sklearn train and test split method"
      ],
      "metadata": {
        "id": "0mTSEv-IVyLn"
      }
    },
    {
      "cell_type": "code",
      "source": [
        "x_train, x_valid, y_train, y_valid= train_test_split(x_train, y_train, test_size=.05, random_state=42,)"
      ],
      "metadata": {
        "id": "gHBf3LPnRaGA"
      },
      "execution_count": 11,
      "outputs": []
    },
    {
      "cell_type": "code",
      "source": [
        "rows=112\n",
        "cols=92\n",
        "batch_size=512\n",
        "shape=(rows, cols, 1)\n",
        "\n",
        "#change the size of images\n",
        "x_train = x_train.reshape(x_train.shape[0], *shape)\n",
        "x_test = x_test.reshape(x_test.shape[0], *shape)\n",
        "x_valid = x_valid.reshape(x_valid.shape[0], *shape)\n",
        "\n",
        "\n",
        "print(f\"x_train shape: {x_train.shape}\")\n",
        "print(f\"x_test shape: {x_test.shape}\")\n",
        "print(f\"y_train shape: {y_train.shape}\")\n",
        "print(f\"y_test shape: {y_test.shape}\")\n",
        "print(f\"x_valid shape: {x_valid.shape}\")\n",
        "print(f\"y_valid shape: {y_valid.shape}\")"
      ],
      "metadata": {
        "colab": {
          "base_uri": "https://localhost:8080/",
          "height": 0
        },
        "id": "tBjRKtdZPT5V",
        "outputId": "92bcbee6-0e80-4610-a1e8-f2e16e38af65"
      },
      "execution_count": 12,
      "outputs": [
        {
          "output_type": "stream",
          "name": "stdout",
          "text": [
            "x_train shape: 228\n",
            "x_test shape: (160,)\n"
          ]
        }
      ]
    },
    {
      "cell_type": "markdown",
      "source": [],
      "metadata": {
        "id": "hMBayJFaXrZg"
      }
    },
    {
      "cell_type": "code",
      "source": [
        "# Build a CNN model that has 3 main layers: i. Convolutional Layer ii. Pooling Layer iii. Fully Connected Layer\n",
        "cnn_model= Sequential([\n",
        "    Conv2D(filters=36, kernel_size=7, activation='relu', input_shape= shape),\n",
        "    MaxPooling2D(pool_size=2),\n",
        "    Conv2D(filters=54, kernel_size=5, activation='relu', input_shape= shape),\n",
        "    MaxPooling2D(pool_size=2),\n",
        "    Flatten(),\n",
        "    Dense(2024, activation='relu'),\n",
        "     Dropout(0.5),\n",
        "    Dense(1024, activation='relu'),\n",
        "    Dropout(0.5),\n",
        "    Dense(512, activation='relu'),\n",
        "    Dropout(0.5),\n",
        "    Dense(20, activation='softmax')\n",
        "])\n",
        "\n",
        "cnn_model.compile(\n",
        "    loss='sparse_categorical_crossentropy',\n",
        "    optimizer=Adam(lr=0.0001),\n",
        "    metrics=['accuracy']\n",
        ")"
      ],
      "metadata": {
        "colab": {
          "base_uri": "https://localhost:8080/",
          "height": 0
        },
        "id": "80ustpjjPT8V",
        "outputId": "b2bc606b-8452-4326-acd9-0e8972b3bd5d"
      },
      "execution_count": 13,
      "outputs": [
        {
          "output_type": "stream",
          "name": "stderr",
          "text": [
            "/usr/local/lib/python3.10/dist-packages/keras/optimizers/legacy/adam.py:117: UserWarning: The `lr` argument is deprecated, use `learning_rate` instead.\n",
            "  super().__init__(name, **kwargs)\n"
          ]
        }
      ]
    },
    {
      "cell_type": "code",
      "source": [
        "cnn_model.summary()"
      ],
      "metadata": {
        "colab": {
          "base_uri": "https://localhost:8080/",
          "height": 0
        },
        "id": "UTZniHmEPUAN",
        "outputId": "4e81a9ff-3db0-4d25-f7d6-b03cfa2f88f6"
      },
      "execution_count": 14,
      "outputs": [
        {
          "output_type": "stream",
          "name": "stdout",
          "text": [
            "Model: \"sequential\"\n",
            "_________________________________________________________________\n",
            " Layer (type)                Output Shape              Param #   \n",
            "=================================================================\n",
            " conv2d (Conv2D)             (None, 106, 86, 36)       1800      \n",
            "                                                                 \n",
            " max_pooling2d (MaxPooling2D  (None, 53, 43, 36)       0         \n",
            " )                                                               \n",
            "                                                                 \n",
            " conv2d_1 (Conv2D)           (None, 49, 39, 54)        48654     \n",
            "                                                                 \n",
            " max_pooling2d_1 (MaxPooling  (None, 24, 19, 54)       0         \n",
            " 2D)                                                             \n",
            "                                                                 \n",
            " flatten (Flatten)           (None, 24624)             0         \n",
            "                                                                 \n",
            " dense (Dense)               (None, 2024)              49841000  \n",
            "                                                                 \n",
            " dropout (Dropout)           (None, 2024)              0         \n",
            "                                                                 \n",
            " dense_1 (Dense)             (None, 1024)              2073600   \n",
            "                                                                 \n",
            " dropout_1 (Dropout)         (None, 1024)              0         \n",
            "                                                                 \n",
            " dense_2 (Dense)             (None, 512)               524800    \n",
            "                                                                 \n",
            " dropout_2 (Dropout)         (None, 512)               0         \n",
            "                                                                 \n",
            " dense_3 (Dense)             (None, 20)                10260     \n",
            "                                                                 \n",
            "=================================================================\n",
            "Total params: 52,500,114\n",
            "Trainable params: 52,500,114\n",
            "Non-trainable params: 0\n",
            "_________________________________________________________________\n"
          ]
        }
      ]
    },
    {
      "cell_type": "code",
      "source": [
        "history=cnn_model.fit(\n",
        "    np.array(x_train), np.array(y_train), batch_size=512,\n",
        "    epochs=250, verbose=2,\n",
        "    validation_data=(np.array(x_valid),np.array(y_valid)),\n",
        ")"
      ],
      "metadata": {
        "colab": {
          "base_uri": "https://localhost:8080/",
          "height": 0
        },
        "id": "nzYFmyngR_Vh",
        "outputId": "6c282f92-7615-4e85-fcf8-3bfbe8df3337"
      },
      "execution_count": 15,
      "outputs": [
        {
          "output_type": "stream",
          "name": "stdout",
          "text": [
            "Epoch 1/250\n",
            "1/1 - 11s - loss: 3.0018 - accuracy: 0.0482 - val_loss: 2.9897 - val_accuracy: 0.0833 - 11s/epoch - 11s/step\n",
            "Epoch 2/250\n",
            "1/1 - 13s - loss: 3.0017 - accuracy: 0.0395 - val_loss: 2.9886 - val_accuracy: 0.0833 - 13s/epoch - 13s/step\n",
            "Epoch 3/250\n",
            "1/1 - 13s - loss: 3.0018 - accuracy: 0.0746 - val_loss: 2.9909 - val_accuracy: 0.0833 - 13s/epoch - 13s/step\n",
            "Epoch 4/250\n",
            "1/1 - 15s - loss: 2.9886 - accuracy: 0.0614 - val_loss: 2.9953 - val_accuracy: 0.0833 - 15s/epoch - 15s/step\n",
            "Epoch 5/250\n",
            "1/1 - 9s - loss: 3.0019 - accuracy: 0.0658 - val_loss: 2.9958 - val_accuracy: 0.0833 - 9s/epoch - 9s/step\n",
            "Epoch 6/250\n",
            "1/1 - 9s - loss: 2.9900 - accuracy: 0.0351 - val_loss: 2.9946 - val_accuracy: 0.0833 - 9s/epoch - 9s/step\n",
            "Epoch 7/250\n",
            "1/1 - 12s - loss: 2.9815 - accuracy: 0.0746 - val_loss: 2.9928 - val_accuracy: 0.0000e+00 - 12s/epoch - 12s/step\n",
            "Epoch 8/250\n",
            "1/1 - 11s - loss: 2.9820 - accuracy: 0.0702 - val_loss: 2.9911 - val_accuracy: 0.0000e+00 - 11s/epoch - 11s/step\n",
            "Epoch 9/250\n",
            "1/1 - 11s - loss: 2.9813 - accuracy: 0.0570 - val_loss: 2.9896 - val_accuracy: 0.0000e+00 - 11s/epoch - 11s/step\n",
            "Epoch 10/250\n",
            "1/1 - 9s - loss: 2.9776 - accuracy: 0.0746 - val_loss: 2.9880 - val_accuracy: 0.0833 - 9s/epoch - 9s/step\n",
            "Epoch 11/250\n",
            "1/1 - 9s - loss: 2.9610 - accuracy: 0.1009 - val_loss: 2.9865 - val_accuracy: 0.0833 - 9s/epoch - 9s/step\n",
            "Epoch 12/250\n",
            "1/1 - 9s - loss: 2.9572 - accuracy: 0.1096 - val_loss: 2.9845 - val_accuracy: 0.0833 - 9s/epoch - 9s/step\n",
            "Epoch 13/250\n",
            "1/1 - 10s - loss: 2.9387 - accuracy: 0.1316 - val_loss: 2.9837 - val_accuracy: 0.0833 - 10s/epoch - 10s/step\n",
            "Epoch 14/250\n",
            "1/1 - 9s - loss: 2.9515 - accuracy: 0.0746 - val_loss: 2.9815 - val_accuracy: 0.1667 - 9s/epoch - 9s/step\n",
            "Epoch 15/250\n",
            "1/1 - 9s - loss: 2.9460 - accuracy: 0.0921 - val_loss: 2.9814 - val_accuracy: 0.0833 - 9s/epoch - 9s/step\n",
            "Epoch 16/250\n",
            "1/1 - 9s - loss: 2.9361 - accuracy: 0.1053 - val_loss: 2.9807 - val_accuracy: 0.0000e+00 - 9s/epoch - 9s/step\n",
            "Epoch 17/250\n",
            "1/1 - 8s - loss: 2.9204 - accuracy: 0.1360 - val_loss: 2.9792 - val_accuracy: 0.0000e+00 - 8s/epoch - 8s/step\n",
            "Epoch 18/250\n",
            "1/1 - 9s - loss: 2.9039 - accuracy: 0.1667 - val_loss: 2.9762 - val_accuracy: 0.0000e+00 - 9s/epoch - 9s/step\n",
            "Epoch 19/250\n",
            "1/1 - 9s - loss: 2.8888 - accuracy: 0.1404 - val_loss: 2.9702 - val_accuracy: 0.0000e+00 - 9s/epoch - 9s/step\n",
            "Epoch 20/250\n",
            "1/1 - 8s - loss: 2.8678 - accuracy: 0.1360 - val_loss: 2.9615 - val_accuracy: 0.0000e+00 - 8s/epoch - 8s/step\n",
            "Epoch 21/250\n",
            "1/1 - 10s - loss: 2.8535 - accuracy: 0.1886 - val_loss: 2.9517 - val_accuracy: 0.0833 - 10s/epoch - 10s/step\n",
            "Epoch 22/250\n",
            "1/1 - 8s - loss: 2.8517 - accuracy: 0.1623 - val_loss: 2.9407 - val_accuracy: 0.0833 - 8s/epoch - 8s/step\n",
            "Epoch 23/250\n",
            "1/1 - 9s - loss: 2.8289 - accuracy: 0.2105 - val_loss: 2.9299 - val_accuracy: 0.0833 - 9s/epoch - 9s/step\n",
            "Epoch 24/250\n",
            "1/1 - 9s - loss: 2.8238 - accuracy: 0.1754 - val_loss: 2.9190 - val_accuracy: 0.0833 - 9s/epoch - 9s/step\n",
            "Epoch 25/250\n",
            "1/1 - 8s - loss: 2.7722 - accuracy: 0.2105 - val_loss: 2.9082 - val_accuracy: 0.0833 - 8s/epoch - 8s/step\n",
            "Epoch 26/250\n",
            "1/1 - 9s - loss: 2.7486 - accuracy: 0.1842 - val_loss: 2.8904 - val_accuracy: 0.0833 - 9s/epoch - 9s/step\n",
            "Epoch 27/250\n",
            "1/1 - 10s - loss: 2.7135 - accuracy: 0.2368 - val_loss: 2.8692 - val_accuracy: 0.1667 - 10s/epoch - 10s/step\n",
            "Epoch 28/250\n",
            "1/1 - 9s - loss: 2.7376 - accuracy: 0.2237 - val_loss: 2.8462 - val_accuracy: 0.0833 - 9s/epoch - 9s/step\n",
            "Epoch 29/250\n",
            "1/1 - 8s - loss: 2.6985 - accuracy: 0.2193 - val_loss: 2.8159 - val_accuracy: 0.1667 - 8s/epoch - 8s/step\n",
            "Epoch 30/250\n",
            "1/1 - 9s - loss: 2.6819 - accuracy: 0.2281 - val_loss: 2.7792 - val_accuracy: 0.4167 - 9s/epoch - 9s/step\n",
            "Epoch 31/250\n",
            "1/1 - 9s - loss: 2.6195 - accuracy: 0.2851 - val_loss: 2.7400 - val_accuracy: 0.3333 - 9s/epoch - 9s/step\n",
            "Epoch 32/250\n",
            "1/1 - 8s - loss: 2.5518 - accuracy: 0.2719 - val_loss: 2.6923 - val_accuracy: 0.3333 - 8s/epoch - 8s/step\n",
            "Epoch 33/250\n",
            "1/1 - 9s - loss: 2.5457 - accuracy: 0.2851 - val_loss: 2.6465 - val_accuracy: 0.5000 - 9s/epoch - 9s/step\n",
            "Epoch 34/250\n",
            "1/1 - 9s - loss: 2.5593 - accuracy: 0.2588 - val_loss: 2.5926 - val_accuracy: 0.5000 - 9s/epoch - 9s/step\n",
            "Epoch 35/250\n",
            "1/1 - 8s - loss: 2.4585 - accuracy: 0.3421 - val_loss: 2.5384 - val_accuracy: 0.5000 - 8s/epoch - 8s/step\n",
            "Epoch 36/250\n",
            "1/1 - 9s - loss: 2.3961 - accuracy: 0.3596 - val_loss: 2.4818 - val_accuracy: 0.6667 - 9s/epoch - 9s/step\n",
            "Epoch 37/250\n",
            "1/1 - 9s - loss: 2.3383 - accuracy: 0.3202 - val_loss: 2.4208 - val_accuracy: 0.6667 - 9s/epoch - 9s/step\n",
            "Epoch 38/250\n",
            "1/1 - 9s - loss: 2.2962 - accuracy: 0.3509 - val_loss: 2.3522 - val_accuracy: 0.6667 - 9s/epoch - 9s/step\n",
            "Epoch 39/250\n",
            "1/1 - 9s - loss: 2.2647 - accuracy: 0.3465 - val_loss: 2.2824 - val_accuracy: 0.6667 - 9s/epoch - 9s/step\n",
            "Epoch 40/250\n",
            "1/1 - 9s - loss: 2.2108 - accuracy: 0.3553 - val_loss: 2.2133 - val_accuracy: 0.6667 - 9s/epoch - 9s/step\n",
            "Epoch 41/250\n",
            "1/1 - 8s - loss: 2.1299 - accuracy: 0.3947 - val_loss: 2.1418 - val_accuracy: 0.7500 - 8s/epoch - 8s/step\n",
            "Epoch 42/250\n",
            "1/1 - 9s - loss: 2.1222 - accuracy: 0.3684 - val_loss: 2.0711 - val_accuracy: 0.7500 - 9s/epoch - 9s/step\n",
            "Epoch 43/250\n",
            "1/1 - 9s - loss: 2.0042 - accuracy: 0.4342 - val_loss: 2.0147 - val_accuracy: 0.6667 - 9s/epoch - 9s/step\n",
            "Epoch 44/250\n",
            "1/1 - 8s - loss: 1.9327 - accuracy: 0.4254 - val_loss: 1.9645 - val_accuracy: 0.6667 - 8s/epoch - 8s/step\n",
            "Epoch 45/250\n",
            "1/1 - 9s - loss: 1.8650 - accuracy: 0.4386 - val_loss: 1.9080 - val_accuracy: 0.6667 - 9s/epoch - 9s/step\n",
            "Epoch 46/250\n",
            "1/1 - 14s - loss: 1.8574 - accuracy: 0.4825 - val_loss: 1.8323 - val_accuracy: 0.7500 - 14s/epoch - 14s/step\n",
            "Epoch 47/250\n",
            "1/1 - 12s - loss: 1.8192 - accuracy: 0.4912 - val_loss: 1.7612 - val_accuracy: 0.8333 - 12s/epoch - 12s/step\n",
            "Epoch 48/250\n",
            "1/1 - 9s - loss: 1.6602 - accuracy: 0.5263 - val_loss: 1.6807 - val_accuracy: 0.8333 - 9s/epoch - 9s/step\n",
            "Epoch 49/250\n",
            "1/1 - 8s - loss: 1.6430 - accuracy: 0.5526 - val_loss: 1.6055 - val_accuracy: 0.8333 - 8s/epoch - 8s/step\n",
            "Epoch 50/250\n",
            "1/1 - 10s - loss: 1.6216 - accuracy: 0.5307 - val_loss: 1.5498 - val_accuracy: 0.8333 - 10s/epoch - 10s/step\n",
            "Epoch 51/250\n",
            "1/1 - 9s - loss: 1.5199 - accuracy: 0.5877 - val_loss: 1.4595 - val_accuracy: 0.8333 - 9s/epoch - 9s/step\n",
            "Epoch 52/250\n",
            "1/1 - 14s - loss: 1.3878 - accuracy: 0.6096 - val_loss: 1.3635 - val_accuracy: 0.9167 - 14s/epoch - 14s/step\n",
            "Epoch 53/250\n",
            "1/1 - 10s - loss: 1.3548 - accuracy: 0.6360 - val_loss: 1.2913 - val_accuracy: 0.9167 - 10s/epoch - 10s/step\n",
            "Epoch 54/250\n",
            "1/1 - 13s - loss: 1.3571 - accuracy: 0.6360 - val_loss: 1.2255 - val_accuracy: 0.9167 - 13s/epoch - 13s/step\n",
            "Epoch 55/250\n",
            "1/1 - 9s - loss: 1.2862 - accuracy: 0.6579 - val_loss: 1.1712 - val_accuracy: 0.9167 - 9s/epoch - 9s/step\n",
            "Epoch 56/250\n",
            "1/1 - 12s - loss: 1.1867 - accuracy: 0.6711 - val_loss: 1.1341 - val_accuracy: 0.8333 - 12s/epoch - 12s/step\n",
            "Epoch 57/250\n",
            "1/1 - 9s - loss: 1.1587 - accuracy: 0.6535 - val_loss: 1.0678 - val_accuracy: 0.9167 - 9s/epoch - 9s/step\n",
            "Epoch 58/250\n",
            "1/1 - 13s - loss: 1.1323 - accuracy: 0.6535 - val_loss: 1.0133 - val_accuracy: 0.9167 - 13s/epoch - 13s/step\n",
            "Epoch 59/250\n",
            "1/1 - 10s - loss: 1.0366 - accuracy: 0.6886 - val_loss: 0.9627 - val_accuracy: 0.9167 - 10s/epoch - 10s/step\n",
            "Epoch 60/250\n",
            "1/1 - 10s - loss: 1.0360 - accuracy: 0.7149 - val_loss: 0.9194 - val_accuracy: 0.9167 - 10s/epoch - 10s/step\n",
            "Epoch 61/250\n",
            "1/1 - 16s - loss: 0.9702 - accuracy: 0.7193 - val_loss: 0.8826 - val_accuracy: 0.8333 - 16s/epoch - 16s/step\n",
            "Epoch 62/250\n",
            "1/1 - 12s - loss: 0.8374 - accuracy: 0.8333 - val_loss: 0.8020 - val_accuracy: 0.9167 - 12s/epoch - 12s/step\n",
            "Epoch 63/250\n",
            "1/1 - 11s - loss: 0.7464 - accuracy: 0.8289 - val_loss: 0.7217 - val_accuracy: 0.9167 - 11s/epoch - 11s/step\n",
            "Epoch 64/250\n",
            "1/1 - 10s - loss: 0.8175 - accuracy: 0.8070 - val_loss: 0.6600 - val_accuracy: 0.9167 - 10s/epoch - 10s/step\n",
            "Epoch 65/250\n",
            "1/1 - 10s - loss: 0.7653 - accuracy: 0.7895 - val_loss: 0.6109 - val_accuracy: 0.9167 - 10s/epoch - 10s/step\n",
            "Epoch 66/250\n",
            "1/1 - 9s - loss: 0.7062 - accuracy: 0.8158 - val_loss: 0.5721 - val_accuracy: 0.9167 - 9s/epoch - 9s/step\n",
            "Epoch 67/250\n",
            "1/1 - 10s - loss: 0.6505 - accuracy: 0.8553 - val_loss: 0.5390 - val_accuracy: 0.9167 - 10s/epoch - 10s/step\n",
            "Epoch 68/250\n",
            "1/1 - 9s - loss: 0.6011 - accuracy: 0.8465 - val_loss: 0.5109 - val_accuracy: 0.9167 - 9s/epoch - 9s/step\n",
            "Epoch 69/250\n",
            "1/1 - 9s - loss: 0.6052 - accuracy: 0.8465 - val_loss: 0.4850 - val_accuracy: 0.9167 - 9s/epoch - 9s/step\n",
            "Epoch 70/250\n",
            "1/1 - 8s - loss: 0.6012 - accuracy: 0.8158 - val_loss: 0.4620 - val_accuracy: 0.9167 - 8s/epoch - 8s/step\n",
            "Epoch 71/250\n",
            "1/1 - 9s - loss: 0.5430 - accuracy: 0.8377 - val_loss: 0.4386 - val_accuracy: 0.9167 - 9s/epoch - 9s/step\n",
            "Epoch 72/250\n",
            "1/1 - 10s - loss: 0.5929 - accuracy: 0.8070 - val_loss: 0.4056 - val_accuracy: 0.9167 - 10s/epoch - 10s/step\n",
            "Epoch 73/250\n",
            "1/1 - 8s - loss: 0.5014 - accuracy: 0.8553 - val_loss: 0.3801 - val_accuracy: 0.9167 - 8s/epoch - 8s/step\n",
            "Epoch 74/250\n",
            "1/1 - 9s - loss: 0.3790 - accuracy: 0.9123 - val_loss: 0.3581 - val_accuracy: 0.9167 - 9s/epoch - 9s/step\n",
            "Epoch 75/250\n",
            "1/1 - 9s - loss: 0.4989 - accuracy: 0.8728 - val_loss: 0.3481 - val_accuracy: 0.9167 - 9s/epoch - 9s/step\n",
            "Epoch 76/250\n",
            "1/1 - 10s - loss: 0.4233 - accuracy: 0.8860 - val_loss: 0.3387 - val_accuracy: 0.9167 - 10s/epoch - 10s/step\n",
            "Epoch 77/250\n",
            "1/1 - 9s - loss: 0.4006 - accuracy: 0.9211 - val_loss: 0.3174 - val_accuracy: 0.9167 - 9s/epoch - 9s/step\n",
            "Epoch 78/250\n",
            "1/1 - 9s - loss: 0.3757 - accuracy: 0.8991 - val_loss: 0.2863 - val_accuracy: 0.9167 - 9s/epoch - 9s/step\n",
            "Epoch 79/250\n",
            "1/1 - 9s - loss: 0.4082 - accuracy: 0.8991 - val_loss: 0.2678 - val_accuracy: 0.9167 - 9s/epoch - 9s/step\n",
            "Epoch 80/250\n",
            "1/1 - 8s - loss: 0.3106 - accuracy: 0.9254 - val_loss: 0.2533 - val_accuracy: 0.9167 - 8s/epoch - 8s/step\n",
            "Epoch 81/250\n",
            "1/1 - 9s - loss: 0.2635 - accuracy: 0.9474 - val_loss: 0.2490 - val_accuracy: 0.9167 - 9s/epoch - 9s/step\n",
            "Epoch 82/250\n",
            "1/1 - 9s - loss: 0.3340 - accuracy: 0.9035 - val_loss: 0.2355 - val_accuracy: 0.9167 - 9s/epoch - 9s/step\n",
            "Epoch 83/250\n",
            "1/1 - 10s - loss: 0.2653 - accuracy: 0.9298 - val_loss: 0.2141 - val_accuracy: 0.9167 - 10s/epoch - 10s/step\n",
            "Epoch 84/250\n",
            "1/1 - 8s - loss: 0.2596 - accuracy: 0.9386 - val_loss: 0.1962 - val_accuracy: 0.9167 - 8s/epoch - 8s/step\n",
            "Epoch 85/250\n",
            "1/1 - 9s - loss: 0.2298 - accuracy: 0.9605 - val_loss: 0.1843 - val_accuracy: 0.9167 - 9s/epoch - 9s/step\n",
            "Epoch 86/250\n",
            "1/1 - 9s - loss: 0.2727 - accuracy: 0.9298 - val_loss: 0.1843 - val_accuracy: 0.9167 - 9s/epoch - 9s/step\n",
            "Epoch 87/250\n",
            "1/1 - 8s - loss: 0.2788 - accuracy: 0.9123 - val_loss: 0.1733 - val_accuracy: 0.9167 - 8s/epoch - 8s/step\n",
            "Epoch 88/250\n",
            "1/1 - 9s - loss: 0.2479 - accuracy: 0.9211 - val_loss: 0.1565 - val_accuracy: 0.9167 - 9s/epoch - 9s/step\n",
            "Epoch 89/250\n",
            "1/1 - 11s - loss: 0.2122 - accuracy: 0.9474 - val_loss: 0.1302 - val_accuracy: 1.0000 - 11s/epoch - 11s/step\n",
            "Epoch 90/250\n",
            "1/1 - 8s - loss: 0.2567 - accuracy: 0.9254 - val_loss: 0.1170 - val_accuracy: 1.0000 - 8s/epoch - 8s/step\n",
            "Epoch 91/250\n",
            "1/1 - 9s - loss: 0.1992 - accuracy: 0.9518 - val_loss: 0.1102 - val_accuracy: 1.0000 - 9s/epoch - 9s/step\n",
            "Epoch 92/250\n",
            "1/1 - 10s - loss: 0.1900 - accuracy: 0.9561 - val_loss: 0.1111 - val_accuracy: 1.0000 - 10s/epoch - 10s/step\n",
            "Epoch 93/250\n",
            "1/1 - 13s - loss: 0.1908 - accuracy: 0.9649 - val_loss: 0.1307 - val_accuracy: 0.9167 - 13s/epoch - 13s/step\n",
            "Epoch 94/250\n",
            "1/1 - 17s - loss: 0.2376 - accuracy: 0.9298 - val_loss: 0.1172 - val_accuracy: 1.0000 - 17s/epoch - 17s/step\n",
            "Epoch 95/250\n",
            "1/1 - 11s - loss: 0.1659 - accuracy: 0.9737 - val_loss: 0.1058 - val_accuracy: 1.0000 - 11s/epoch - 11s/step\n",
            "Epoch 96/250\n",
            "1/1 - 11s - loss: 0.1402 - accuracy: 0.9693 - val_loss: 0.1167 - val_accuracy: 1.0000 - 11s/epoch - 11s/step\n",
            "Epoch 97/250\n",
            "1/1 - 13s - loss: 0.1382 - accuracy: 0.9693 - val_loss: 0.1139 - val_accuracy: 1.0000 - 13s/epoch - 13s/step\n",
            "Epoch 98/250\n",
            "1/1 - 10s - loss: 0.1506 - accuracy: 0.9518 - val_loss: 0.0926 - val_accuracy: 1.0000 - 10s/epoch - 10s/step\n",
            "Epoch 99/250\n",
            "1/1 - 11s - loss: 0.1374 - accuracy: 0.9737 - val_loss: 0.0947 - val_accuracy: 1.0000 - 11s/epoch - 11s/step\n",
            "Epoch 100/250\n",
            "1/1 - 12s - loss: 0.1194 - accuracy: 0.9693 - val_loss: 0.1130 - val_accuracy: 1.0000 - 12s/epoch - 12s/step\n",
            "Epoch 101/250\n",
            "1/1 - 11s - loss: 0.1118 - accuracy: 0.9868 - val_loss: 0.0987 - val_accuracy: 1.0000 - 11s/epoch - 11s/step\n",
            "Epoch 102/250\n",
            "1/1 - 11s - loss: 0.1187 - accuracy: 0.9781 - val_loss: 0.0689 - val_accuracy: 1.0000 - 11s/epoch - 11s/step\n",
            "Epoch 103/250\n",
            "1/1 - 11s - loss: 0.0848 - accuracy: 0.9825 - val_loss: 0.0580 - val_accuracy: 1.0000 - 11s/epoch - 11s/step\n",
            "Epoch 104/250\n",
            "1/1 - 8s - loss: 0.1331 - accuracy: 0.9649 - val_loss: 0.0536 - val_accuracy: 1.0000 - 8s/epoch - 8s/step\n",
            "Epoch 105/250\n",
            "1/1 - 9s - loss: 0.1224 - accuracy: 0.9737 - val_loss: 0.0486 - val_accuracy: 1.0000 - 9s/epoch - 9s/step\n",
            "Epoch 106/250\n",
            "1/1 - 9s - loss: 0.1168 - accuracy: 0.9649 - val_loss: 0.0453 - val_accuracy: 1.0000 - 9s/epoch - 9s/step\n",
            "Epoch 107/250\n",
            "1/1 - 9s - loss: 0.1131 - accuracy: 0.9825 - val_loss: 0.0536 - val_accuracy: 1.0000 - 9s/epoch - 9s/step\n",
            "Epoch 108/250\n",
            "1/1 - 13s - loss: 0.1127 - accuracy: 0.9781 - val_loss: 0.0585 - val_accuracy: 1.0000 - 13s/epoch - 13s/step\n",
            "Epoch 109/250\n",
            "1/1 - 12s - loss: 0.0815 - accuracy: 0.9868 - val_loss: 0.0521 - val_accuracy: 1.0000 - 12s/epoch - 12s/step\n",
            "Epoch 110/250\n",
            "1/1 - 14s - loss: 0.1031 - accuracy: 0.9737 - val_loss: 0.0404 - val_accuracy: 1.0000 - 14s/epoch - 14s/step\n",
            "Epoch 111/250\n",
            "1/1 - 14s - loss: 0.0808 - accuracy: 0.9912 - val_loss: 0.0387 - val_accuracy: 1.0000 - 14s/epoch - 14s/step\n",
            "Epoch 112/250\n",
            "1/1 - 13s - loss: 0.0874 - accuracy: 0.9825 - val_loss: 0.0405 - val_accuracy: 1.0000 - 13s/epoch - 13s/step\n",
            "Epoch 113/250\n",
            "1/1 - 11s - loss: 0.0843 - accuracy: 0.9868 - val_loss: 0.0379 - val_accuracy: 1.0000 - 11s/epoch - 11s/step\n",
            "Epoch 114/250\n",
            "1/1 - 9s - loss: 0.0980 - accuracy: 0.9781 - val_loss: 0.0349 - val_accuracy: 1.0000 - 9s/epoch - 9s/step\n",
            "Epoch 115/250\n",
            "1/1 - 12s - loss: 0.0940 - accuracy: 0.9781 - val_loss: 0.0347 - val_accuracy: 1.0000 - 12s/epoch - 12s/step\n",
            "Epoch 116/250\n",
            "1/1 - 11s - loss: 0.0671 - accuracy: 0.9956 - val_loss: 0.0364 - val_accuracy: 1.0000 - 11s/epoch - 11s/step\n",
            "Epoch 117/250\n",
            "1/1 - 12s - loss: 0.0691 - accuracy: 0.9825 - val_loss: 0.0328 - val_accuracy: 1.0000 - 12s/epoch - 12s/step\n",
            "Epoch 118/250\n",
            "1/1 - 9s - loss: 0.0618 - accuracy: 0.9868 - val_loss: 0.0256 - val_accuracy: 1.0000 - 9s/epoch - 9s/step\n",
            "Epoch 119/250\n",
            "1/1 - 9s - loss: 0.0752 - accuracy: 0.9781 - val_loss: 0.0200 - val_accuracy: 1.0000 - 9s/epoch - 9s/step\n",
            "Epoch 120/250\n",
            "1/1 - 10s - loss: 0.0628 - accuracy: 0.9825 - val_loss: 0.0177 - val_accuracy: 1.0000 - 10s/epoch - 10s/step\n",
            "Epoch 121/250\n",
            "1/1 - 8s - loss: 0.0668 - accuracy: 0.9912 - val_loss: 0.0163 - val_accuracy: 1.0000 - 8s/epoch - 8s/step\n",
            "Epoch 122/250\n",
            "1/1 - 16s - loss: 0.0473 - accuracy: 0.9956 - val_loss: 0.0150 - val_accuracy: 1.0000 - 16s/epoch - 16s/step\n",
            "Epoch 123/250\n",
            "1/1 - 11s - loss: 0.0750 - accuracy: 0.9825 - val_loss: 0.0153 - val_accuracy: 1.0000 - 11s/epoch - 11s/step\n",
            "Epoch 124/250\n",
            "1/1 - 9s - loss: 0.0631 - accuracy: 0.9912 - val_loss: 0.0158 - val_accuracy: 1.0000 - 9s/epoch - 9s/step\n",
            "Epoch 125/250\n",
            "1/1 - 9s - loss: 0.0457 - accuracy: 0.9825 - val_loss: 0.0176 - val_accuracy: 1.0000 - 9s/epoch - 9s/step\n",
            "Epoch 126/250\n",
            "1/1 - 8s - loss: 0.0617 - accuracy: 0.9912 - val_loss: 0.0189 - val_accuracy: 1.0000 - 8s/epoch - 8s/step\n",
            "Epoch 127/250\n",
            "1/1 - 9s - loss: 0.0487 - accuracy: 0.9912 - val_loss: 0.0197 - val_accuracy: 1.0000 - 9s/epoch - 9s/step\n",
            "Epoch 128/250\n",
            "1/1 - 9s - loss: 0.0761 - accuracy: 0.9956 - val_loss: 0.0187 - val_accuracy: 1.0000 - 9s/epoch - 9s/step\n",
            "Epoch 129/250\n",
            "1/1 - 9s - loss: 0.0468 - accuracy: 0.9912 - val_loss: 0.0183 - val_accuracy: 1.0000 - 9s/epoch - 9s/step\n",
            "Epoch 130/250\n",
            "1/1 - 9s - loss: 0.0533 - accuracy: 0.9912 - val_loss: 0.0181 - val_accuracy: 1.0000 - 9s/epoch - 9s/step\n",
            "Epoch 131/250\n",
            "1/1 - 10s - loss: 0.0333 - accuracy: 0.9956 - val_loss: 0.0178 - val_accuracy: 1.0000 - 10s/epoch - 10s/step\n",
            "Epoch 132/250\n",
            "1/1 - 17s - loss: 0.0403 - accuracy: 0.9912 - val_loss: 0.0181 - val_accuracy: 1.0000 - 17s/epoch - 17s/step\n",
            "Epoch 133/250\n",
            "1/1 - 15s - loss: 0.0364 - accuracy: 0.9956 - val_loss: 0.0168 - val_accuracy: 1.0000 - 15s/epoch - 15s/step\n",
            "Epoch 134/250\n",
            "1/1 - 12s - loss: 0.0423 - accuracy: 0.9912 - val_loss: 0.0141 - val_accuracy: 1.0000 - 12s/epoch - 12s/step\n",
            "Epoch 135/250\n",
            "1/1 - 13s - loss: 0.0528 - accuracy: 0.9912 - val_loss: 0.0110 - val_accuracy: 1.0000 - 13s/epoch - 13s/step\n",
            "Epoch 136/250\n",
            "1/1 - 13s - loss: 0.0384 - accuracy: 0.9956 - val_loss: 0.0101 - val_accuracy: 1.0000 - 13s/epoch - 13s/step\n",
            "Epoch 137/250\n",
            "1/1 - 9s - loss: 0.0343 - accuracy: 0.9912 - val_loss: 0.0097 - val_accuracy: 1.0000 - 9s/epoch - 9s/step\n",
            "Epoch 138/250\n",
            "1/1 - 10s - loss: 0.0336 - accuracy: 0.9956 - val_loss: 0.0091 - val_accuracy: 1.0000 - 10s/epoch - 10s/step\n",
            "Epoch 139/250\n",
            "1/1 - 8s - loss: 0.0394 - accuracy: 0.9956 - val_loss: 0.0084 - val_accuracy: 1.0000 - 8s/epoch - 8s/step\n",
            "Epoch 140/250\n",
            "1/1 - 10s - loss: 0.0431 - accuracy: 0.9956 - val_loss: 0.0078 - val_accuracy: 1.0000 - 10s/epoch - 10s/step\n",
            "Epoch 141/250\n",
            "1/1 - 10s - loss: 0.0469 - accuracy: 0.9912 - val_loss: 0.0084 - val_accuracy: 1.0000 - 10s/epoch - 10s/step\n",
            "Epoch 142/250\n",
            "1/1 - 9s - loss: 0.0427 - accuracy: 0.9912 - val_loss: 0.0097 - val_accuracy: 1.0000 - 9s/epoch - 9s/step\n",
            "Epoch 143/250\n",
            "1/1 - 9s - loss: 0.0340 - accuracy: 0.9956 - val_loss: 0.0114 - val_accuracy: 1.0000 - 9s/epoch - 9s/step\n",
            "Epoch 144/250\n",
            "1/1 - 11s - loss: 0.0464 - accuracy: 0.9868 - val_loss: 0.0115 - val_accuracy: 1.0000 - 11s/epoch - 11s/step\n",
            "Epoch 145/250\n",
            "1/1 - 11s - loss: 0.0669 - accuracy: 0.9825 - val_loss: 0.0110 - val_accuracy: 1.0000 - 11s/epoch - 11s/step\n",
            "Epoch 146/250\n",
            "1/1 - 10s - loss: 0.0246 - accuracy: 1.0000 - val_loss: 0.0095 - val_accuracy: 1.0000 - 10s/epoch - 10s/step\n",
            "Epoch 147/250\n",
            "1/1 - 14s - loss: 0.0319 - accuracy: 0.9956 - val_loss: 0.0080 - val_accuracy: 1.0000 - 14s/epoch - 14s/step\n",
            "Epoch 148/250\n",
            "1/1 - 13s - loss: 0.0421 - accuracy: 0.9912 - val_loss: 0.0060 - val_accuracy: 1.0000 - 13s/epoch - 13s/step\n",
            "Epoch 149/250\n",
            "1/1 - 10s - loss: 0.0315 - accuracy: 0.9956 - val_loss: 0.0053 - val_accuracy: 1.0000 - 10s/epoch - 10s/step\n",
            "Epoch 150/250\n",
            "1/1 - 11s - loss: 0.0289 - accuracy: 0.9956 - val_loss: 0.0053 - val_accuracy: 1.0000 - 11s/epoch - 11s/step\n",
            "Epoch 151/250\n",
            "1/1 - 11s - loss: 0.0290 - accuracy: 0.9956 - val_loss: 0.0057 - val_accuracy: 1.0000 - 11s/epoch - 11s/step\n",
            "Epoch 152/250\n",
            "1/1 - 13s - loss: 0.0263 - accuracy: 0.9956 - val_loss: 0.0063 - val_accuracy: 1.0000 - 13s/epoch - 13s/step\n",
            "Epoch 153/250\n",
            "1/1 - 13s - loss: 0.0345 - accuracy: 0.9912 - val_loss: 0.0068 - val_accuracy: 1.0000 - 13s/epoch - 13s/step\n",
            "Epoch 154/250\n",
            "1/1 - 10s - loss: 0.0293 - accuracy: 0.9912 - val_loss: 0.0071 - val_accuracy: 1.0000 - 10s/epoch - 10s/step\n",
            "Epoch 155/250\n",
            "1/1 - 9s - loss: 0.0366 - accuracy: 0.9912 - val_loss: 0.0074 - val_accuracy: 1.0000 - 9s/epoch - 9s/step\n",
            "Epoch 156/250\n",
            "1/1 - 14s - loss: 0.0316 - accuracy: 0.9956 - val_loss: 0.0082 - val_accuracy: 1.0000 - 14s/epoch - 14s/step\n",
            "Epoch 157/250\n",
            "1/1 - 15s - loss: 0.0195 - accuracy: 1.0000 - val_loss: 0.0088 - val_accuracy: 1.0000 - 15s/epoch - 15s/step\n",
            "Epoch 158/250\n",
            "1/1 - 13s - loss: 0.0235 - accuracy: 1.0000 - val_loss: 0.0093 - val_accuracy: 1.0000 - 13s/epoch - 13s/step\n",
            "Epoch 159/250\n",
            "1/1 - 13s - loss: 0.0237 - accuracy: 0.9956 - val_loss: 0.0091 - val_accuracy: 1.0000 - 13s/epoch - 13s/step\n",
            "Epoch 160/250\n",
            "1/1 - 14s - loss: 0.0183 - accuracy: 1.0000 - val_loss: 0.0089 - val_accuracy: 1.0000 - 14s/epoch - 14s/step\n",
            "Epoch 161/250\n",
            "1/1 - 8s - loss: 0.0573 - accuracy: 0.9825 - val_loss: 0.0082 - val_accuracy: 1.0000 - 8s/epoch - 8s/step\n",
            "Epoch 162/250\n",
            "1/1 - 10s - loss: 0.0177 - accuracy: 1.0000 - val_loss: 0.0074 - val_accuracy: 1.0000 - 10s/epoch - 10s/step\n",
            "Epoch 163/250\n",
            "1/1 - 9s - loss: 0.0323 - accuracy: 1.0000 - val_loss: 0.0070 - val_accuracy: 1.0000 - 9s/epoch - 9s/step\n",
            "Epoch 164/250\n",
            "1/1 - 9s - loss: 0.0192 - accuracy: 1.0000 - val_loss: 0.0069 - val_accuracy: 1.0000 - 9s/epoch - 9s/step\n",
            "Epoch 165/250\n",
            "1/1 - 13s - loss: 0.0164 - accuracy: 1.0000 - val_loss: 0.0066 - val_accuracy: 1.0000 - 13s/epoch - 13s/step\n",
            "Epoch 166/250\n",
            "1/1 - 19s - loss: 0.0355 - accuracy: 0.9912 - val_loss: 0.0062 - val_accuracy: 1.0000 - 19s/epoch - 19s/step\n",
            "Epoch 167/250\n",
            "1/1 - 13s - loss: 0.0171 - accuracy: 0.9956 - val_loss: 0.0058 - val_accuracy: 1.0000 - 13s/epoch - 13s/step\n",
            "Epoch 168/250\n",
            "1/1 - 15s - loss: 0.0254 - accuracy: 1.0000 - val_loss: 0.0053 - val_accuracy: 1.0000 - 15s/epoch - 15s/step\n",
            "Epoch 169/250\n",
            "1/1 - 15s - loss: 0.0274 - accuracy: 0.9912 - val_loss: 0.0056 - val_accuracy: 1.0000 - 15s/epoch - 15s/step\n",
            "Epoch 170/250\n",
            "1/1 - 14s - loss: 0.0258 - accuracy: 0.9912 - val_loss: 0.0058 - val_accuracy: 1.0000 - 14s/epoch - 14s/step\n",
            "Epoch 171/250\n",
            "1/1 - 12s - loss: 0.0174 - accuracy: 1.0000 - val_loss: 0.0055 - val_accuracy: 1.0000 - 12s/epoch - 12s/step\n",
            "Epoch 172/250\n",
            "1/1 - 11s - loss: 0.0473 - accuracy: 0.9825 - val_loss: 0.0050 - val_accuracy: 1.0000 - 11s/epoch - 11s/step\n",
            "Epoch 173/250\n",
            "1/1 - 16s - loss: 0.0272 - accuracy: 0.9956 - val_loss: 0.0045 - val_accuracy: 1.0000 - 16s/epoch - 16s/step\n",
            "Epoch 174/250\n",
            "1/1 - 9s - loss: 0.0270 - accuracy: 0.9956 - val_loss: 0.0041 - val_accuracy: 1.0000 - 9s/epoch - 9s/step\n",
            "Epoch 175/250\n",
            "1/1 - 8s - loss: 0.0163 - accuracy: 1.0000 - val_loss: 0.0038 - val_accuracy: 1.0000 - 8s/epoch - 8s/step\n",
            "Epoch 176/250\n",
            "1/1 - 9s - loss: 0.0101 - accuracy: 1.0000 - val_loss: 0.0038 - val_accuracy: 1.0000 - 9s/epoch - 9s/step\n",
            "Epoch 177/250\n",
            "1/1 - 9s - loss: 0.0233 - accuracy: 1.0000 - val_loss: 0.0038 - val_accuracy: 1.0000 - 9s/epoch - 9s/step\n",
            "Epoch 178/250\n",
            "1/1 - 9s - loss: 0.0220 - accuracy: 1.0000 - val_loss: 0.0036 - val_accuracy: 1.0000 - 9s/epoch - 9s/step\n",
            "Epoch 179/250\n",
            "1/1 - 9s - loss: 0.0139 - accuracy: 1.0000 - val_loss: 0.0033 - val_accuracy: 1.0000 - 9s/epoch - 9s/step\n",
            "Epoch 180/250\n",
            "1/1 - 9s - loss: 0.0172 - accuracy: 1.0000 - val_loss: 0.0033 - val_accuracy: 1.0000 - 9s/epoch - 9s/step\n",
            "Epoch 181/250\n",
            "1/1 - 9s - loss: 0.0227 - accuracy: 1.0000 - val_loss: 0.0032 - val_accuracy: 1.0000 - 9s/epoch - 9s/step\n",
            "Epoch 182/250\n",
            "1/1 - 8s - loss: 0.0128 - accuracy: 1.0000 - val_loss: 0.0034 - val_accuracy: 1.0000 - 8s/epoch - 8s/step\n",
            "Epoch 183/250\n",
            "1/1 - 9s - loss: 0.0248 - accuracy: 0.9912 - val_loss: 0.0033 - val_accuracy: 1.0000 - 9s/epoch - 9s/step\n",
            "Epoch 184/250\n",
            "1/1 - 9s - loss: 0.0124 - accuracy: 1.0000 - val_loss: 0.0032 - val_accuracy: 1.0000 - 9s/epoch - 9s/step\n",
            "Epoch 185/250\n",
            "1/1 - 8s - loss: 0.0220 - accuracy: 0.9956 - val_loss: 0.0025 - val_accuracy: 1.0000 - 8s/epoch - 8s/step\n",
            "Epoch 186/250\n",
            "1/1 - 9s - loss: 0.0126 - accuracy: 1.0000 - val_loss: 0.0022 - val_accuracy: 1.0000 - 9s/epoch - 9s/step\n",
            "Epoch 187/250\n",
            "1/1 - 9s - loss: 0.0218 - accuracy: 1.0000 - val_loss: 0.0021 - val_accuracy: 1.0000 - 9s/epoch - 9s/step\n",
            "Epoch 188/250\n",
            "1/1 - 10s - loss: 0.0245 - accuracy: 0.9912 - val_loss: 0.0022 - val_accuracy: 1.0000 - 10s/epoch - 10s/step\n",
            "Epoch 189/250\n",
            "1/1 - 10s - loss: 0.0214 - accuracy: 0.9956 - val_loss: 0.0024 - val_accuracy: 1.0000 - 10s/epoch - 10s/step\n",
            "Epoch 190/250\n",
            "1/1 - 9s - loss: 0.0107 - accuracy: 1.0000 - val_loss: 0.0026 - val_accuracy: 1.0000 - 9s/epoch - 9s/step\n",
            "Epoch 191/250\n",
            "1/1 - 9s - loss: 0.0101 - accuracy: 1.0000 - val_loss: 0.0030 - val_accuracy: 1.0000 - 9s/epoch - 9s/step\n",
            "Epoch 192/250\n",
            "1/1 - 8s - loss: 0.0297 - accuracy: 0.9868 - val_loss: 0.0037 - val_accuracy: 1.0000 - 8s/epoch - 8s/step\n",
            "Epoch 193/250\n",
            "1/1 - 9s - loss: 0.0126 - accuracy: 1.0000 - val_loss: 0.0042 - val_accuracy: 1.0000 - 9s/epoch - 9s/step\n",
            "Epoch 194/250\n",
            "1/1 - 9s - loss: 0.0144 - accuracy: 1.0000 - val_loss: 0.0042 - val_accuracy: 1.0000 - 9s/epoch - 9s/step\n",
            "Epoch 195/250\n",
            "1/1 - 8s - loss: 0.0178 - accuracy: 0.9956 - val_loss: 0.0043 - val_accuracy: 1.0000 - 8s/epoch - 8s/step\n",
            "Epoch 196/250\n",
            "1/1 - 9s - loss: 0.0127 - accuracy: 1.0000 - val_loss: 0.0045 - val_accuracy: 1.0000 - 9s/epoch - 9s/step\n",
            "Epoch 197/250\n",
            "1/1 - 9s - loss: 0.0222 - accuracy: 0.9956 - val_loss: 0.0050 - val_accuracy: 1.0000 - 9s/epoch - 9s/step\n",
            "Epoch 198/250\n",
            "1/1 - 8s - loss: 0.0243 - accuracy: 0.9868 - val_loss: 0.0052 - val_accuracy: 1.0000 - 8s/epoch - 8s/step\n",
            "Epoch 199/250\n",
            "1/1 - 9s - loss: 0.0083 - accuracy: 1.0000 - val_loss: 0.0050 - val_accuracy: 1.0000 - 9s/epoch - 9s/step\n",
            "Epoch 200/250\n",
            "1/1 - 9s - loss: 0.0101 - accuracy: 1.0000 - val_loss: 0.0045 - val_accuracy: 1.0000 - 9s/epoch - 9s/step\n",
            "Epoch 201/250\n",
            "1/1 - 10s - loss: 0.0075 - accuracy: 1.0000 - val_loss: 0.0038 - val_accuracy: 1.0000 - 10s/epoch - 10s/step\n",
            "Epoch 202/250\n",
            "1/1 - 8s - loss: 0.0133 - accuracy: 0.9956 - val_loss: 0.0030 - val_accuracy: 1.0000 - 8s/epoch - 8s/step\n",
            "Epoch 203/250\n",
            "1/1 - 10s - loss: 0.0142 - accuracy: 1.0000 - val_loss: 0.0025 - val_accuracy: 1.0000 - 10s/epoch - 10s/step\n",
            "Epoch 204/250\n",
            "1/1 - 9s - loss: 0.0094 - accuracy: 1.0000 - val_loss: 0.0021 - val_accuracy: 1.0000 - 9s/epoch - 9s/step\n",
            "Epoch 205/250\n",
            "1/1 - 8s - loss: 0.0120 - accuracy: 1.0000 - val_loss: 0.0018 - val_accuracy: 1.0000 - 8s/epoch - 8s/step\n",
            "Epoch 206/250\n",
            "1/1 - 9s - loss: 0.0114 - accuracy: 1.0000 - val_loss: 0.0017 - val_accuracy: 1.0000 - 9s/epoch - 9s/step\n",
            "Epoch 207/250\n",
            "1/1 - 9s - loss: 0.0110 - accuracy: 1.0000 - val_loss: 0.0016 - val_accuracy: 1.0000 - 9s/epoch - 9s/step\n",
            "Epoch 208/250\n",
            "1/1 - 8s - loss: 0.0168 - accuracy: 0.9956 - val_loss: 0.0015 - val_accuracy: 1.0000 - 8s/epoch - 8s/step\n",
            "Epoch 209/250\n",
            "1/1 - 9s - loss: 0.0085 - accuracy: 1.0000 - val_loss: 0.0013 - val_accuracy: 1.0000 - 9s/epoch - 9s/step\n",
            "Epoch 210/250\n",
            "1/1 - 9s - loss: 0.0067 - accuracy: 1.0000 - val_loss: 0.0012 - val_accuracy: 1.0000 - 9s/epoch - 9s/step\n",
            "Epoch 211/250\n",
            "1/1 - 9s - loss: 0.0166 - accuracy: 0.9956 - val_loss: 0.0012 - val_accuracy: 1.0000 - 9s/epoch - 9s/step\n",
            "Epoch 212/250\n",
            "1/1 - 8s - loss: 0.0257 - accuracy: 0.9912 - val_loss: 0.0014 - val_accuracy: 1.0000 - 8s/epoch - 8s/step\n",
            "Epoch 213/250\n",
            "1/1 - 9s - loss: 0.0089 - accuracy: 1.0000 - val_loss: 0.0017 - val_accuracy: 1.0000 - 9s/epoch - 9s/step\n",
            "Epoch 214/250\n",
            "1/1 - 9s - loss: 0.0161 - accuracy: 0.9956 - val_loss: 0.0022 - val_accuracy: 1.0000 - 9s/epoch - 9s/step\n",
            "Epoch 215/250\n",
            "1/1 - 8s - loss: 0.0118 - accuracy: 1.0000 - val_loss: 0.0025 - val_accuracy: 1.0000 - 8s/epoch - 8s/step\n",
            "Epoch 216/250\n",
            "1/1 - 9s - loss: 0.0147 - accuracy: 1.0000 - val_loss: 0.0026 - val_accuracy: 1.0000 - 9s/epoch - 9s/step\n",
            "Epoch 217/250\n",
            "1/1 - 9s - loss: 0.0129 - accuracy: 0.9956 - val_loss: 0.0025 - val_accuracy: 1.0000 - 9s/epoch - 9s/step\n",
            "Epoch 218/250\n",
            "1/1 - 8s - loss: 0.0090 - accuracy: 1.0000 - val_loss: 0.0020 - val_accuracy: 1.0000 - 8s/epoch - 8s/step\n",
            "Epoch 219/250\n",
            "1/1 - 10s - loss: 0.0076 - accuracy: 1.0000 - val_loss: 0.0018 - val_accuracy: 1.0000 - 10s/epoch - 10s/step\n",
            "Epoch 220/250\n",
            "1/1 - 9s - loss: 0.0118 - accuracy: 0.9956 - val_loss: 0.0018 - val_accuracy: 1.0000 - 9s/epoch - 9s/step\n",
            "Epoch 221/250\n",
            "1/1 - 8s - loss: 0.0152 - accuracy: 0.9956 - val_loss: 0.0021 - val_accuracy: 1.0000 - 8s/epoch - 8s/step\n",
            "Epoch 222/250\n",
            "1/1 - 9s - loss: 0.0114 - accuracy: 1.0000 - val_loss: 0.0024 - val_accuracy: 1.0000 - 9s/epoch - 9s/step\n",
            "Epoch 223/250\n",
            "1/1 - 9s - loss: 0.0117 - accuracy: 1.0000 - val_loss: 0.0026 - val_accuracy: 1.0000 - 9s/epoch - 9s/step\n",
            "Epoch 224/250\n",
            "1/1 - 8s - loss: 0.0090 - accuracy: 1.0000 - val_loss: 0.0029 - val_accuracy: 1.0000 - 8s/epoch - 8s/step\n",
            "Epoch 225/250\n",
            "1/1 - 9s - loss: 0.0117 - accuracy: 1.0000 - val_loss: 0.0034 - val_accuracy: 1.0000 - 9s/epoch - 9s/step\n",
            "Epoch 226/250\n",
            "1/1 - 9s - loss: 0.0097 - accuracy: 1.0000 - val_loss: 0.0039 - val_accuracy: 1.0000 - 9s/epoch - 9s/step\n",
            "Epoch 227/250\n",
            "1/1 - 8s - loss: 0.0093 - accuracy: 1.0000 - val_loss: 0.0042 - val_accuracy: 1.0000 - 8s/epoch - 8s/step\n",
            "Epoch 228/250\n",
            "1/1 - 9s - loss: 0.0076 - accuracy: 1.0000 - val_loss: 0.0040 - val_accuracy: 1.0000 - 9s/epoch - 9s/step\n",
            "Epoch 229/250\n",
            "1/1 - 9s - loss: 0.0079 - accuracy: 1.0000 - val_loss: 0.0033 - val_accuracy: 1.0000 - 9s/epoch - 9s/step\n",
            "Epoch 230/250\n",
            "1/1 - 8s - loss: 0.0167 - accuracy: 1.0000 - val_loss: 0.0024 - val_accuracy: 1.0000 - 8s/epoch - 8s/step\n",
            "Epoch 231/250\n",
            "1/1 - 9s - loss: 0.0178 - accuracy: 0.9912 - val_loss: 0.0019 - val_accuracy: 1.0000 - 9s/epoch - 9s/step\n",
            "Epoch 232/250\n",
            "1/1 - 9s - loss: 0.0060 - accuracy: 1.0000 - val_loss: 0.0017 - val_accuracy: 1.0000 - 9s/epoch - 9s/step\n",
            "Epoch 233/250\n",
            "1/1 - 8s - loss: 0.0099 - accuracy: 1.0000 - val_loss: 0.0015 - val_accuracy: 1.0000 - 8s/epoch - 8s/step\n",
            "Epoch 234/250\n",
            "1/1 - 10s - loss: 0.0150 - accuracy: 0.9956 - val_loss: 0.0013 - val_accuracy: 1.0000 - 10s/epoch - 10s/step\n",
            "Epoch 235/250\n",
            "1/1 - 9s - loss: 0.0146 - accuracy: 0.9956 - val_loss: 0.0012 - val_accuracy: 1.0000 - 9s/epoch - 9s/step\n",
            "Epoch 236/250\n",
            "1/1 - 9s - loss: 0.0166 - accuracy: 0.9912 - val_loss: 0.0012 - val_accuracy: 1.0000 - 9s/epoch - 9s/step\n",
            "Epoch 237/250\n",
            "1/1 - 8s - loss: 0.0063 - accuracy: 1.0000 - val_loss: 0.0013 - val_accuracy: 1.0000 - 8s/epoch - 8s/step\n",
            "Epoch 238/250\n",
            "1/1 - 9s - loss: 0.0212 - accuracy: 0.9868 - val_loss: 0.0016 - val_accuracy: 1.0000 - 9s/epoch - 9s/step\n",
            "Epoch 239/250\n",
            "1/1 - 9s - loss: 0.0080 - accuracy: 1.0000 - val_loss: 0.0019 - val_accuracy: 1.0000 - 9s/epoch - 9s/step\n",
            "Epoch 240/250\n",
            "1/1 - 8s - loss: 0.0105 - accuracy: 1.0000 - val_loss: 0.0018 - val_accuracy: 1.0000 - 8s/epoch - 8s/step\n",
            "Epoch 241/250\n",
            "1/1 - 9s - loss: 0.0050 - accuracy: 1.0000 - val_loss: 0.0018 - val_accuracy: 1.0000 - 9s/epoch - 9s/step\n",
            "Epoch 242/250\n",
            "1/1 - 9s - loss: 0.0155 - accuracy: 0.9912 - val_loss: 0.0016 - val_accuracy: 1.0000 - 9s/epoch - 9s/step\n",
            "Epoch 243/250\n",
            "1/1 - 8s - loss: 0.0143 - accuracy: 0.9956 - val_loss: 0.0015 - val_accuracy: 1.0000 - 8s/epoch - 8s/step\n",
            "Epoch 244/250\n",
            "1/1 - 9s - loss: 0.0101 - accuracy: 1.0000 - val_loss: 0.0015 - val_accuracy: 1.0000 - 9s/epoch - 9s/step\n",
            "Epoch 245/250\n",
            "1/1 - 9s - loss: 0.0094 - accuracy: 1.0000 - val_loss: 0.0017 - val_accuracy: 1.0000 - 9s/epoch - 9s/step\n",
            "Epoch 246/250\n",
            "1/1 - 9s - loss: 0.0110 - accuracy: 1.0000 - val_loss: 0.0020 - val_accuracy: 1.0000 - 9s/epoch - 9s/step\n",
            "Epoch 247/250\n",
            "1/1 - 8s - loss: 0.0100 - accuracy: 1.0000 - val_loss: 0.0021 - val_accuracy: 1.0000 - 8s/epoch - 8s/step\n",
            "Epoch 248/250\n",
            "1/1 - 9s - loss: 0.0108 - accuracy: 1.0000 - val_loss: 0.0022 - val_accuracy: 1.0000 - 9s/epoch - 9s/step\n",
            "Epoch 249/250\n",
            "1/1 - 10s - loss: 0.0079 - accuracy: 1.0000 - val_loss: 0.0023 - val_accuracy: 1.0000 - 10s/epoch - 10s/step\n",
            "Epoch 250/250\n",
            "1/1 - 9s - loss: 0.0190 - accuracy: 0.9956 - val_loss: 0.0024 - val_accuracy: 1.0000 - 9s/epoch - 9s/step\n"
          ]
        }
      ]
    },
    {
      "cell_type": "code",
      "source": [
        "# CNN model evaluation using x_test and y_test\n",
        "score = cnn_model.evaluate( np.array(x_test),  np.array(y_test), verbose=0)\n",
        "\n",
        "print(f\"Test Loss: {score[0]}\")\n",
        "print(f\"Test Accuracy: {score[1]}\")"
      ],
      "metadata": {
        "colab": {
          "base_uri": "https://localhost:8080/",
          "height": 0
        },
        "id": "ic30M9J0SB3e",
        "outputId": "e7cbdffd-ea56-440a-f810-b4af0a3d5f0c"
      },
      "execution_count": 18,
      "outputs": [
        {
          "output_type": "stream",
          "name": "stdout",
          "text": [
            "Test Loss: 0.29496198892593384\n",
            "Test Accuracy: 0.9375\n"
          ]
        }
      ]
    },
    {
      "cell_type": "code",
      "source": [
        "# list all data in history\n",
        "print(history.history.keys())\n",
        "# summarize history for accuracy\n",
        "plt.plot(history.history['accuracy'])\n",
        "plt.plot(history.history['val_accuracy'])\n",
        "plt.title('model accuracy')\n",
        "plt.ylabel('accuracy')\n",
        "plt.xlabel('epoch')\n",
        "plt.legend(['train', 'test'], loc='upper left')\n",
        "plt.show()\n",
        "# summarize history for loss\n",
        "plt.plot(history.history['loss'])\n",
        "plt.plot(history.history['val_loss'])\n",
        "plt.title('model loss')\n",
        "plt.ylabel('loss')\n",
        "plt.xlabel('epoch')\n",
        "plt.legend(['train', 'test'], loc='upper left')\n",
        "plt.show()"
      ],
      "metadata": {
        "colab": {
          "base_uri": "https://localhost:8080/",
          "height": 944
        },
        "id": "f7dmO33BSIAT",
        "outputId": "3218f2ba-2eed-4127-ccd0-372dc9eae28c"
      },
      "execution_count": 21,
      "outputs": [
        {
          "output_type": "stream",
          "name": "stdout",
          "text": [
            "dict_keys(['loss', 'accuracy', 'val_loss', 'val_accuracy'])\n"
          ]
        },
        {
          "output_type": "display_data",
          "data": {
            "text/plain": [
              "<Figure size 640x480 with 1 Axes>"
            ],
            "image/png": "[encoded data removed]"
          },
          "metadata": {}
        },
        {
          "output_type": "display_data",
          "data": {
            "text/plain": [
              "<Figure size 640x480 with 1 Axes>"
            ],
            "image/png": "[encoded data removed]"
          },
          "metadata": {}
        }
      ]
    },
    {
      "cell_type": "code",
      "source": [
        "predicted =np.array( cnn_model.predict(x_test))\n",
        "\n",
        "predict_x=cnn_model.predict(x_test)\n",
        "ypred=np.argmax(predict_x,axis=1)\n",
        "\n",
        "accuracy=accuracy_score(y_test, ypred)\n",
        "print(f\"accuracy : {accuracy}\")\n",
        "\n",
        "cnf_matrix=confusion_matrix(np.array(y_test), ypred)\n",
        "y_test1 = np_utils.to_categorical(y_test, 20)"
      ],
      "metadata": {
        "colab": {
          "base_uri": "https://localhost:8080/",
          "height": 0
        },
        "id": "GBVGRTarSKub",
        "outputId": "98eb8deb-1636-40b9-a647-ed38138a55f1"
      },
      "execution_count": 25,
      "outputs": [
        {
          "output_type": "stream",
          "name": "stdout",
          "text": [
            "5/5 [==============================] - 2s 288ms/step\n",
            "5/5 [==============================] - 1s 284ms/step\n",
            "accuracy : 0.9375\n"
          ]
        }
      ]
    },
    {
      "cell_type": "code",
      "source": [
        "def plot_confusion_matrix(cm, classes,\n",
        "                          normalize=False,\n",
        "                          title='Confusion matrix',\n",
        "                          cmap=plt.cm.Reds):\n",
        "    if normalize:\n",
        "        cm = cm.astype('float') / cm.sum(axis=1)[:, np.newaxis]\n",
        "    else:\n",
        "        print('Confusion matrix, without normalization')\n",
        "\n",
        "    plt.imshow(cm, interpolation='nearest', cmap=cmap)\n",
        "    plt.title(title)\n",
        "    plt.colorbar()\n",
        "    tick_marks = np.arange(len(classes))\n",
        "    plt.xticks(tick_marks, classes, rotation=45)\n",
        "    plt.yticks(tick_marks, classes)\n",
        "\n",
        "    fmt = '.2f' if normalize else 'd'\n",
        "    thresh = cm.max() / 2.\n",
        "    for i, j in itertools.product(range(cm.shape[0]), range(cm.shape[1])):\n",
        "        plt.text(j, i, format(cm[i, j], fmt),\n",
        "                 horizontalalignment=\"center\",\n",
        "                 color=\"white\" if cm[i, j] > thresh else \"black\")\n",
        "\n",
        "    plt.tight_layout()\n",
        "    plt.ylabel('True label')\n",
        "    plt.xlabel('Predicted label')\n",
        "    plt.show()"
      ],
      "metadata": {
        "id": "Vo5GDCfbSYQn"
      },
      "execution_count": 27,
      "outputs": []
    },
    {
      "cell_type": "code",
      "source": [
        "print('Confusion matrix, without normalization')\n",
        "print(cnf_matrix)\n",
        "\n"
      ],
      "metadata": {
        "colab": {
          "base_uri": "https://localhost:8080/"
        },
        "id": "VE4iMWxhSYUJ",
        "outputId": "8377cc73-19a8-4c1f-9bd1-4ca90aa100c4"
      },
      "execution_count": 30,
      "outputs": [
        {
          "output_type": "stream",
          "name": "stdout",
          "text": [
            "Confusion matrix, without normalization\n",
            "[[8 0 0 0 0 0 0 0 0 0 0 0 0 0 0 0 0 0 0 0]\n",
            " [0 8 0 0 0 0 0 0 0 0 0 0 0 0 0 0 0 0 0 0]\n",
            " [0 0 8 0 0 0 0 0 0 0 0 0 0 0 0 0 0 0 0 0]\n",
            " [0 0 0 8 0 0 0 0 0 0 0 0 0 0 0 0 0 0 0 0]\n",
            " [0 0 0 0 6 0 0 0 0 0 0 0 0 0 0 0 0 2 0 0]\n",
            " [0 0 0 0 0 8 0 0 0 0 0 0 0 0 0 0 0 0 0 0]\n",
            " [0 0 0 0 0 0 8 0 0 0 0 0 0 0 0 0 0 0 0 0]\n",
            " [0 0 0 0 0 0 0 8 0 0 0 0 0 0 0 0 0 0 0 0]\n",
            " [0 0 0 0 0 0 0 0 8 0 0 0 0 0 0 0 0 0 0 0]\n",
            " [0 0 0 0 0 0 0 2 0 6 0 0 0 0 0 0 0 0 0 0]\n",
            " [0 0 0 0 0 0 0 0 0 0 8 0 0 0 0 0 0 0 0 0]\n",
            " [0 0 0 0 0 0 0 0 0 0 0 8 0 0 0 0 0 0 0 0]\n",
            " [0 0 0 0 0 0 0 0 0 0 0 0 8 0 0 0 0 0 0 0]\n",
            " [0 0 0 0 0 0 0 0 0 0 0 0 0 8 0 0 0 0 0 0]\n",
            " [0 0 0 0 0 0 0 0 0 0 0 0 0 0 8 0 0 0 0 0]\n",
            " [2 0 0 0 0 0 0 0 0 0 0 0 2 0 0 4 0 0 0 0]\n",
            " [0 0 0 0 0 0 0 0 0 0 0 0 0 0 0 0 8 0 0 0]\n",
            " [0 0 0 0 0 0 0 0 0 0 0 0 0 0 0 0 0 8 0 0]\n",
            " [0 0 0 0 0 0 0 2 0 0 0 0 0 0 0 0 0 0 6 0]\n",
            " [0 0 0 0 0 0 0 0 0 0 0 0 0 0 0 0 0 0 0 8]]\n"
          ]
        }
      ]
    },
    {
      "cell_type": "code",
      "source": [
        "plt.figure()\n",
        "plot_confusion_matrix(cnf_matrix[1:10,1:10], classes=[0,1,2,3,4,5,6,7,8,9],\n",
        "                      title='Confusion matrix, without normalization')\n",
        "\n"
      ],
      "metadata": {
        "colab": {
          "base_uri": "https://localhost:8080/",
          "height": 523
        },
        "id": "Gqm9lJc9SYXV",
        "outputId": "c83c7539-ecc4-4b4a-bf3b-1a0adcc4adfc"
      },
      "execution_count": 31,
      "outputs": [
        {
          "output_type": "stream",
          "name": "stdout",
          "text": [
            "Confusion matrix, without normalization\n"
          ]
        },
        {
          "output_type": "display_data",
          "data": {
            "text/plain": [
              "<Figure size 640x480 with 2 Axes>"
            ],
            "image/png": "[encoded data removed]"
          },
          "metadata": {}
        }
      ]
    },
    {
      "cell_type": "code",
      "source": [
        "plt.figure()\n",
        "plot_confusion_matrix(cnf_matrix[11:20,11:20], classes=[10,11,12,13,14,15,16,17,18,19],\n",
        "                      title='Confusion matrix, without normalization')\n",
        "\n"
      ],
      "metadata": {
        "colab": {
          "base_uri": "https://localhost:8080/",
          "height": 523
        },
        "id": "E_SDrCNHSYaI",
        "outputId": "b9fffcb7-5342-4393-93ee-eeea4b24fe69"
      },
      "execution_count": 32,
      "outputs": [
        {
          "output_type": "stream",
          "name": "stdout",
          "text": [
            "Confusion matrix, without normalization\n"
          ]
        },
        {
          "output_type": "display_data",
          "data": {
            "text/plain": [
              "<Figure size 640x480 with 2 Axes>"
            ],
            "image/png": "[encoded data removed]"
          },
          "metadata": {}
        }
      ]
    },
    {
      "cell_type": "code",
      "source": [
        "print(\"Confusion matrix:\\n%s\" % confusion_matrix(np.array(y_test), ypred))"
      ],
      "metadata": {
        "colab": {
          "base_uri": "https://localhost:8080/"
        },
        "id": "tsvNFXnCSYcz",
        "outputId": "338f9b23-7815-4e28-bcca-b8641afdd52e"
      },
      "execution_count": 34,
      "outputs": [
        {
          "output_type": "stream",
          "name": "stdout",
          "text": [
            "Confusion matrix:\n",
            "[[8 0 0 0 0 0 0 0 0 0 0 0 0 0 0 0 0 0 0 0]\n",
            " [0 8 0 0 0 0 0 0 0 0 0 0 0 0 0 0 0 0 0 0]\n",
            " [0 0 8 0 0 0 0 0 0 0 0 0 0 0 0 0 0 0 0 0]\n",
            " [0 0 0 8 0 0 0 0 0 0 0 0 0 0 0 0 0 0 0 0]\n",
            " [0 0 0 0 6 0 0 0 0 0 0 0 0 0 0 0 0 2 0 0]\n",
            " [0 0 0 0 0 8 0 0 0 0 0 0 0 0 0 0 0 0 0 0]\n",
            " [0 0 0 0 0 0 8 0 0 0 0 0 0 0 0 0 0 0 0 0]\n",
            " [0 0 0 0 0 0 0 8 0 0 0 0 0 0 0 0 0 0 0 0]\n",
            " [0 0 0 0 0 0 0 0 8 0 0 0 0 0 0 0 0 0 0 0]\n",
            " [0 0 0 0 0 0 0 2 0 6 0 0 0 0 0 0 0 0 0 0]\n",
            " [0 0 0 0 0 0 0 0 0 0 8 0 0 0 0 0 0 0 0 0]\n",
            " [0 0 0 0 0 0 0 0 0 0 0 8 0 0 0 0 0 0 0 0]\n",
            " [0 0 0 0 0 0 0 0 0 0 0 0 8 0 0 0 0 0 0 0]\n",
            " [0 0 0 0 0 0 0 0 0 0 0 0 0 8 0 0 0 0 0 0]\n",
            " [0 0 0 0 0 0 0 0 0 0 0 0 0 0 8 0 0 0 0 0]\n",
            " [2 0 0 0 0 0 0 0 0 0 0 0 2 0 0 4 0 0 0 0]\n",
            " [0 0 0 0 0 0 0 0 0 0 0 0 0 0 0 0 8 0 0 0]\n",
            " [0 0 0 0 0 0 0 0 0 0 0 0 0 0 0 0 0 8 0 0]\n",
            " [0 0 0 0 0 0 0 2 0 0 0 0 0 0 0 0 0 0 6 0]\n",
            " [0 0 0 0 0 0 0 0 0 0 0 0 0 0 0 0 0 0 0 8]]\n"
          ]
        }
      ]
    },
    {
      "cell_type": "code",
      "source": [
        "print(classification_report(np.array(y_test), ypred))"
      ],
      "metadata": {
        "colab": {
          "base_uri": "https://localhost:8080/"
        },
        "id": "5lGRpRUzdUw0",
        "outputId": "8c0a1e65-66c3-4900-8219-d7568db04290"
      },
      "execution_count": 35,
      "outputs": [
        {
          "output_type": "stream",
          "name": "stdout",
          "text": [
            "              precision    recall  f1-score   support\n",
            "\n",
            "           0       0.80      1.00      0.89         8\n",
            "           1       1.00      1.00      1.00         8\n",
            "           2       1.00      1.00      1.00         8\n",
            "           3       1.00      1.00      1.00         8\n",
            "           4       1.00      0.75      0.86         8\n",
            "           5       1.00      1.00      1.00         8\n",
            "           6       1.00      1.00      1.00         8\n",
            "           7       0.67      1.00      0.80         8\n",
            "           8       1.00      1.00      1.00         8\n",
            "           9       1.00      0.75      0.86         8\n",
            "          10       1.00      1.00      1.00         8\n",
            "          11       1.00      1.00      1.00         8\n",
            "          12       0.80      1.00      0.89         8\n",
            "          13       1.00      1.00      1.00         8\n",
            "          14       1.00      1.00      1.00         8\n",
            "          15       1.00      0.50      0.67         8\n",
            "          16       1.00      1.00      1.00         8\n",
            "          17       0.80      1.00      0.89         8\n",
            "          18       1.00      0.75      0.86         8\n",
            "          19       1.00      1.00      1.00         8\n",
            "\n",
            "    accuracy                           0.94       160\n",
            "   macro avg       0.95      0.94      0.94       160\n",
            "weighted avg       0.95      0.94      0.94       160\n",
            "\n"
          ]
        }
      ]
    }
  ]
}